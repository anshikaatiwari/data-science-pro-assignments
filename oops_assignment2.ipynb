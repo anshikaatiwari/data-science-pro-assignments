{
 "cells": [
  {
   "cell_type": "markdown",
   "id": "66b4e712-562f-4251-bdc6-fccb7256a01e",
   "metadata": {},
   "source": [
    "Constructor"
   ]
  },
  {
   "cell_type": "code",
   "execution_count": 4,
   "id": "bbbb1e7b-86c4-4966-96f8-2ef4bd7d58c9",
   "metadata": {},
   "outputs": [],
   "source": [
    "#3. How do you define a constructor in a Python class? Provide an example.\n",
    "class Person:\n",
    "    def __init__(self, name, age):\n",
    "        self.name = name\n",
    "        self.age = age"
   ]
  },
  {
   "cell_type": "code",
   "execution_count": 5,
   "id": "78d5e5f0-9e11-4a1d-80ec-626140a11749",
   "metadata": {},
   "outputs": [],
   "source": [
    "# 5. In a class named `Person`, create a constructor that initializes the `name` and `age` attributes.\n",
    "# Provide an example of creating an object of this class.\n",
    "person1 = Person(\"Anas\", 30)"
   ]
  },
  {
   "cell_type": "code",
   "execution_count": 6,
   "id": "75186d49-5f40-4b79-995e-5abfb15f7585",
   "metadata": {},
   "outputs": [],
   "source": [
    "# 6. How can you call a constructor explicitly in Python? Give an example.\n",
    "person2 = Person.__new__(Person)\n",
    "person2.__init__(\"Bobby\", 25)"
   ]
  },
  {
   "cell_type": "code",
   "execution_count": 7,
   "id": "ea147c64-370c-4e2f-9560-4cdc167e0ec0",
   "metadata": {},
   "outputs": [],
   "source": [
    "# 7. What is the significance of the `self` parameter in Python constructors? Explain with an example.\n",
    "# `self` refers to the instance of the class. It is used to access and set instance-specific attributes.\n",
    "class Rectangle:\n",
    "    def __init__(self, width, height):\n",
    "        self.width = width\n",
    "        self.height = height"
   ]
  },
  {
   "cell_type": "code",
   "execution_count": 8,
   "id": "ba69a0ce-5597-49ba-a9a5-a4361985f4c9",
   "metadata": {},
   "outputs": [],
   "source": [
    "# 9. Create a Python class called `Rectangle` with a constructor that initializes the `width` and `height` attributes.\n",
    "# Provide a method to calculate the area of the rectangle.\n",
    "class Rectangle:\n",
    "    def __init__(self, width, height):\n",
    "        self.width = width\n",
    "        self.height = height\n",
    "\n",
    "    def calculate_area(self):\n",
    "        return self.width * self.height"
   ]
  },
  {
   "cell_type": "code",
   "execution_count": 9,
   "id": "85665c2a-e014-4dea-a903-d9e09046a112",
   "metadata": {},
   "outputs": [],
   "source": [
    "# 10. How can you have multiple constructors in a Python class? Explain with an example.\n",
    "# You can't have true method overloading in Python, but you can use default argument values to simulate multiple constructors.\n",
    "class Rectangle:\n",
    "    def __init__(self, width=0, height=0):\n",
    "        self.width = width\n",
    "        self.height = height"
   ]
  },
  {
   "cell_type": "code",
   "execution_count": 10,
   "id": "734d2712-e7bc-4e81-8126-bc239f295c85",
   "metadata": {},
   "outputs": [],
   "source": [
    "# 12. Explain the use of the `super()` function in Python constructors. Provide an example.\n",
    "# The `super()` function is used to call a method from the parent class. It's often used in constructors to initialize attributes from the parent class.\n",
    "class Book:\n",
    "    def __init__(self, title, author, published_year):\n",
    "        self.title = title\n",
    "        self.author = author\n",
    "        self.published_year = published_year\n",
    "\n",
    "class EBook(Book):\n",
    "    def __init__(self, title, author, published_year, file_format):\n",
    "        super().__init__(title, author, published_year)\n",
    "        self.file_format = file_format"
   ]
  },
  {
   "cell_type": "code",
   "execution_count": 11,
   "id": "fef317e7-b4d1-4553-a10a-1152693c9edd",
   "metadata": {},
   "outputs": [],
   "source": [
    "# 13. Create a class called `Book` with a constructor that initializes the `title`, `author`, and `published_year` attributes.\n",
    "# Provide a method to display book details.\n",
    "class Book:\n",
    "    def __init__(self, title, author, published_year):\n",
    "        self.title = title\n",
    "        self.author = author\n",
    "        self.published_year = published_year\n",
    "\n",
    "    def display_details(self):\n",
    "        print(f\"Title: {self.title}, Author: {self.author}, Published Year: {self.published_year}\")"
   ]
  },
  {
   "cell_type": "code",
   "execution_count": 12,
   "id": "dd00e1b5-5664-415c-99cd-481436fdb1a9",
   "metadata": {},
   "outputs": [],
   "source": [
    "# 16. How do you prevent a class from having multiple instances by using constructors in Python? Provide an example.\n",
    "# You can use the Singleton pattern to ensure that a class has only one instance.\n",
    "class SingletonClass:\n",
    "    _instance = None\n",
    "\n",
    "    def __new__(cls):\n",
    "        if cls._instance is None:\n",
    "            cls._instance = super(SingletonClass, cls).__new__(cls)\n",
    "        return cls._instance"
   ]
  },
  {
   "cell_type": "code",
   "execution_count": 13,
   "id": "7948b1c6-9ad6-436b-bd83-1196930fb3c3",
   "metadata": {},
   "outputs": [],
   "source": [
    "# 17. Create a Python class called `Student` with a constructor that takes a list of subjects as a parameter and initializes the `subjects` attribute.\n",
    "class Student:\n",
    "    def __init__(self, subjects):\n",
    "        self.subjects = subjects"
   ]
  },
  {
   "cell_type": "code",
   "execution_count": 14,
   "id": "ded3880b-132c-44cf-a2ce-daf70b64e626",
   "metadata": {},
   "outputs": [],
   "source": [
    "# 19. Explain the use of constructor chaining in Python. Provide a practical example.\n",
    "# Constructor chaining allows one constructor to call another in the same class or a parent class.\n",
    "class Vehicle:\n",
    "    def __init__(self, make, model):\n",
    "        self.make = make\n",
    "        self.model = model\n",
    "\n",
    "class Car(Vehicle):\n",
    "    def __init__(self, make, model, color):\n",
    "        super().__init__(make, model)\n",
    "        self.color = color"
   ]
  },
  {
   "cell_type": "code",
   "execution_count": 15,
   "id": "507dd6b0-c7bf-4cd2-8725-69c574cb851e",
   "metadata": {},
   "outputs": [],
   "source": [
    "# 20. Create a Python class called `Car` with a default constructor that initializes the `make` and `model` attributes.\n",
    "# Provide a method to display car information.\n",
    "class Car:\n",
    "    def __init__(self, make=\"Unknown\", model=\"Unknown\"):\n",
    "        self.make = make\n",
    "        self.model = model\n",
    "\n",
    "    def display_info(self):\n",
    "        print(f\"Make: {self.make}, Model: {self.model}\")\n",
    "\n",
    "# Example usage for the Car class\n",
    "car1 = Car(\"Toyota\", \"Camry\")\n"
   ]
  },
  {
   "cell_type": "markdown",
   "id": "fc6a44ab-5acb-436a-81ae-e3329c836712",
   "metadata": {},
   "source": [
    "Inheritance"
   ]
  },
  {
   "cell_type": "code",
   "execution_count": 16,
   "id": "48c71ec8-e3f5-48bb-b7e9-5a8c6c728379",
   "metadata": {},
   "outputs": [],
   "source": [
    "# 2. Differentiate between single inheritance and multiple inheritance in Python. Provide examples for each.\n",
    "# Single inheritance involves one child class inheriting from one parent class. Multiple inheritance involves a child class inheriting from multiple parent classes.\n",
    "# Single Inheritance Example:\n",
    "class Vehicle:\n",
    "    def __init__(self, color, speed):\n",
    "        self.color = color\n",
    "        self.speed = speed\n",
    "\n",
    "class Car(Vehicle):\n",
    "    def __init__(self, color, speed, brand):\n",
    "        super().__init__(color, speed)\n",
    "        self.brand = brand\n",
    "\n",
    "# Multiple Inheritance Example:\n",
    "class Animal:\n",
    "    def speak(self):\n",
    "        pass\n",
    "\n",
    "class Mammal:\n",
    "    def give_birth(self):\n",
    "        pass\n",
    "\n",
    "class Dog(Animal, Mammal):\n",
    "    def speak(self):\n",
    "        return \"Woof\""
   ]
  },
  {
   "cell_type": "code",
   "execution_count": 17,
   "id": "55b6752a-87c8-4633-8b0b-aefa2547c46c",
   "metadata": {},
   "outputs": [],
   "source": [
    "# 3. Create a Python class called `Vehicle` with attributes `color` and `speed`. Then, create a child class called\n",
    "# `Car` that inherits from `Vehicle` and adds a `brand` attribute. Provide an example of creating a `Car` object.\n",
    "class Vehicle:\n",
    "    def __init__(self, color, speed):\n",
    "        self.color = color\n",
    "        self.speed = speed\n",
    "\n",
    "class Car(Vehicle):\n",
    "    def __init__(self, color, speed, brand):\n",
    "        super().__init__(color, speed)\n",
    "        self.brand = brand\n",
    "\n",
    "# Example usage for the Car class\n",
    "car = Car(\"Red\", 100, \"Toyota\")"
   ]
  },
  {
   "cell_type": "code",
   "execution_count": 18,
   "id": "ba060821-e3f4-40c2-82ed-f40c215c80f6",
   "metadata": {},
   "outputs": [],
   "source": [
    "# 4. Explain the concept of method overriding in inheritance. Provide a practical example.\n",
    "# Method overriding allows a child class to provide a specific implementation of a method that is already defined in the parent class.\n",
    "class Animal:\n",
    "    def speak(self):\n",
    "        pass\n",
    "\n",
    "class Dog(Animal):\n",
    "    def speak(self):\n",
    "        return \"Woof\""
   ]
  },
  {
   "cell_type": "code",
   "execution_count": 19,
   "id": "d6a2ccd3-2748-49ac-bc3e-ef844e3d0ac8",
   "metadata": {},
   "outputs": [],
   "source": [
    "# 5. How can you access the methods and attributes of a parent class from a child class in Python? Give an\n",
    "# example.\n",
    "# You can access them using the `super()` function or by directly referencing the parent class.\n",
    "class Animal:\n",
    "    def __init__(self, name):\n",
    "        self.name = name\n",
    "\n",
    "class Dog(Animal):\n",
    "    def __init__(self, name, breed):\n",
    "        super().__init__(name)\n",
    "        self.breed = breed"
   ]
  },
  {
   "cell_type": "code",
   "execution_count": 20,
   "id": "1f2130a8-0fa2-4ebd-af22-100a4090324c",
   "metadata": {},
   "outputs": [],
   "source": [
    "# 6. Discuss the use of the `super()` function in Python inheritance. When and why is it used? Provide an\n",
    "# example.\n",
    "# The `super()` function is used to call methods from the parent class. It is often used in child class constructors to initialize parent class attributes.\n",
    "class Animal:\n",
    "    def __init__(self, name):\n",
    "        self.name = name\n",
    "\n",
    "class Dog(Animal):\n",
    "    def __init__(self, name, breed):\n",
    "        super().__init__(name)\n",
    "        self.breed = breed"
   ]
  },
  {
   "cell_type": "code",
   "execution_count": 21,
   "id": "9f57616d-f5ab-4f3c-af32-6a2e1035122f",
   "metadata": {},
   "outputs": [
    {
     "name": "stdout",
     "output_type": "stream",
     "text": [
      "Woof\n",
      "Meow\n"
     ]
    }
   ],
   "source": [
    "# 7. Create a Python class called `Animal` with a method `speak()`. Then, create child classes `Dog` and `Cat` that inherit from `Animal` and override the `speak()` method. Provide an example of using these classes.\n",
    "class Animal:\n",
    "    def speak(self):\n",
    "        pass\n",
    "\n",
    "class Dog(Animal):\n",
    "    def speak(self):\n",
    "        return \"Woof\"\n",
    "\n",
    "class Cat(Animal):\n",
    "    def speak(self):\n",
    "        return \"Meow\"\n",
    "\n",
    "# Example usage for Dog and Cat classes\n",
    "dog = Dog()\n",
    "cat = Cat()\n",
    "print(dog.speak())  # Outputs: Woof\n",
    "print(cat.speak())  # Outputs: Meow"
   ]
  },
  {
   "cell_type": "code",
   "execution_count": 22,
   "id": "fe749d67-0f05-4412-9cdc-a131cb17d919",
   "metadata": {},
   "outputs": [
    {
     "name": "stdout",
     "output_type": "stream",
     "text": [
      "True\n",
      "False\n"
     ]
    }
   ],
   "source": [
    "# 8. Explain the role of the `isinstance()` function in Python and how it relates to inheritance.\n",
    "# The `isinstance()` function is used to check if an object is an instance of a particular class or a subclass. It helps verify the type of an object.\n",
    "animal = Animal()\n",
    "print(isinstance(animal, Animal))  # True\n",
    "print(isinstance(animal, Dog))     # False"
   ]
  },
  {
   "cell_type": "code",
   "execution_count": 23,
   "id": "6db7e698-98e5-4977-94fa-a532dca30e05",
   "metadata": {},
   "outputs": [
    {
     "name": "stdout",
     "output_type": "stream",
     "text": [
      "True\n"
     ]
    }
   ],
   "source": [
    "# 9. What is the purpose of the `issubclass()` function in Python? Provide an example.\n",
    "# The `issubclass()` function is used to check if a class is a subclass of another class.\n",
    "print(issubclass(Dog, Animal))  # True"
   ]
  },
  {
   "cell_type": "code",
   "execution_count": 24,
   "id": "afa44b5b-f270-46ec-9680-2f97a981d78e",
   "metadata": {},
   "outputs": [],
   "source": [
    "# 10. Discuss the concept of constructor inheritance in Python. How are constructors inherited in child classes?\n",
    "# Constructors are not automatically inherited by child classes. If a child class does not have its own constructor, it will use the constructor of the parent class. If the child class has its own constructor, it can call the parent class constructor using `super()`.\n",
    "class Parent:\n",
    "    def __init__(self, value):\n",
    "        self.value = value\n",
    "\n",
    "class Child(Parent):\n",
    "    def __init__(self, value, child_value):\n",
    "        super().__init__(value)\n",
    "        self.child_value = child_value"
   ]
  },
  {
   "cell_type": "code",
   "execution_count": 25,
   "id": "aa118953-923f-4b4d-8e84-9ec14013db13",
   "metadata": {},
   "outputs": [
    {
     "name": "stdout",
     "output_type": "stream",
     "text": [
      "78.53975\n",
      "24\n"
     ]
    }
   ],
   "source": [
    "# 11. Create a Python class called `Shape` with a method `area()` that calculates the area of a shape. Then, create child classes `Circle` and `Rectangle` that inherit from `Shape` and implement the `area()` method\n",
    "# accordingly.\n",
    "class Shape:\n",
    "    def area(self):\n",
    "        pass\n",
    "\n",
    "class Circle(Shape):\n",
    "    def __init__(self, radius):\n",
    "        self.radius = radius\n",
    "\n",
    "    def area(self):\n",
    "        return 3.14159 * self.radius * self.radius\n",
    "\n",
    "class Rectangle(Shape):\n",
    "    def __init__(self, length, width):\n",
    "        self.length = length\n",
    "        self.width = width\n",
    "\n",
    "    def area(self):\n",
    "        return self.length * self.width\n",
    "\n",
    "# Example usage for Circle and Rectangle classes\n",
    "circle = Circle(5)\n",
    "rectangle = Rectangle(4, 6)\n",
    "print(circle.area())    # Outputs: 78.53975\n",
    "print(rectangle.area()) # Outputs: 24"
   ]
  },
  {
   "cell_type": "code",
   "execution_count": 26,
   "id": "36ab699c-21fd-424e-9f72-3668454ab1c6",
   "metadata": {},
   "outputs": [],
   "source": [
    "# 12. Explain the use of abstract base classes (ABCs) in Python and how they relate to inheritance. Provide an\n",
    "# example using the `abc` module.\n",
    "# Abstract base classes define a blueprint for other classes. They can't be instantiated themselves but can be inherited by other classes to ensure that certain methods are implemented.\n",
    "from abc import ABC, abstractmethod\n",
    "\n",
    "class MyAbstractClass(ABC):\n",
    "    @abstractmethod\n",
    "    def my_method(self):\n",
    "        pass\n",
    "\n",
    "class MyConcreteClass(MyAbstractClass):\n",
    "    def my_method(self):\n",
    "        return \"Implemented\"\n"
   ]
  },
  {
   "cell_type": "code",
   "execution_count": 27,
   "id": "d348e622-2178-49b3-b38d-29a9132a4b7c",
   "metadata": {},
   "outputs": [],
   "source": [
    "# 13. How can you prevent a child class from modifying certain attributes or methods inherited from a parent\n",
    "# class in Python?\n",
    "# You can make the attributes or methods in the parent class private by prefixing them with an underscore. However, it's still possible to access them, but it signals that they are intended for internal use.\n",
    "class Parent:\n",
    "    def __init__(self):\n",
    "        self._value = 42  # Private attribute\n",
    "\n",
    "    def _private_method(self):\n",
    "        pass\n",
    "\n",
    "class Child(Parent):\n",
    "    def modify(self):\n",
    "        self._value = 10   # Modifying the private attribute"
   ]
  },
  {
   "cell_type": "code",
   "execution_count": 28,
   "id": "ba13689b-b91c-4d11-8e66-f2942c799a0f",
   "metadata": {},
   "outputs": [],
   "source": [
    "# 14. Create a Python class called `Employee` with attributes `name` and `salary`. Then, create a child class\n",
    "# `Manager` that inherits from `Employee` and adds an attribute `department`. Provide an example.\n",
    "class Employee:\n",
    "    def __init__(self, name, salary):\n",
    "        self.name = name\n",
    "        self.salary = salary\n",
    "\n",
    "class Manager(Employee):\n",
    "    def __init__(self, name, salary, department):\n",
    "        super().__init__(name, salary)\n",
    "        self.department = department\n"
   ]
  },
  {
   "cell_type": "code",
   "execution_count": 29,
   "id": "f858bbb3-0952-4f80-8905-3158e6a17c86",
   "metadata": {},
   "outputs": [
    {
     "name": "stdout",
     "output_type": "stream",
     "text": [
      "Soaring high\n",
      "Flitting around\n"
     ]
    }
   ],
   "source": [
    "# 17. Create a Python class called `Bird` with a method `fly()`. Then, create child classes `Eagle` and `Sparrow` that inherit from `Bird` and implement the `fly()` method differently.\n",
    "class Bird:\n",
    "    def fly(self):\n",
    "        pass\n",
    "\n",
    "class Eagle(Bird):\n",
    "    def fly(self):\n",
    "        return \"Soaring high\"\n",
    "\n",
    "class Sparrow(Bird):\n",
    "    def fly(self):\n",
    "        return \"Flitting around\"\n",
    "\n",
    "# Example usage for Eagle and Sparrow classes\n",
    "eagle = Eagle()\n",
    "sparrow = Sparrow()\n",
    "print(eagle.fly())   # Outputs: Soaring high\n",
    "print(sparrow.fly()) # Outputs: Flitting around"
   ]
  },
  {
   "cell_type": "code",
   "execution_count": 30,
   "id": "4bed3d56-f69b-4a17-b4a8-25fad290bdec",
   "metadata": {},
   "outputs": [],
   "source": [
    "# 19. Discuss the concept of \"is-a\" and \"has-a\" relationships in inheritance, and provide examples of each.\n",
    "# \"Is-a\" relationship represents inheritance, where a class is a specialized version of another class.\n",
    "# \"Has-a\" relationship represents composition, where a class has another class as a part or attribute.\n",
    "# Example of \"is-a\":\n",
    "class Animal:\n",
    "    pass\n",
    "\n",
    "class Dog(Animal):\n",
    "    pass\n",
    "\n",
    "# Example of \"has-a\":\n",
    "class Engine:\n",
    "    pass\n",
    "\n",
    "class Car:\n",
    "    def __init__(self):\n",
    "        self.engine = Engine()\n"
   ]
  },
  {
   "cell_type": "code",
   "execution_count": 31,
   "id": "6cad44b8-d639-4455-bdba-2b81bf94d8d4",
   "metadata": {},
   "outputs": [
    {
     "name": "stdout",
     "output_type": "stream",
     "text": [
      "Alice is studying.\n",
      "Dr. Smith is teaching.\n"
     ]
    }
   ],
   "source": [
    "# 20. Create a Python class hierarchy for a university system. Start with a base class `Person` and create child\n",
    "# classes `Student` and `Professor`, each with their own attributes and methods. Provide an example of using\n",
    "# these classes in a university context.\n",
    "class Person:\n",
    "    def __init__(self, name, age):\n",
    "        self.name = name\n",
    "        self.age = age\n",
    "\n",
    "class Student(Person):\n",
    "    def __init__(self, name, age, student_id):\n",
    "        super().__init__(name, age)\n",
    "        self.student_id = student_id\n",
    "\n",
    "    def study(self):\n",
    "        return f\"{self.name} is studying.\"\n",
    "\n",
    "class Professor(Person):\n",
    "    def __init__(self, name, age, employee_id):\n",
    "        super().__init__(name, age)\n",
    "        self.employee_id = employee_id\n",
    "\n",
    "    def teach(self):\n",
    "        return f\"{self.name} is teaching.\"\n",
    "\n",
    "# Example usage for Student and Professor classes\n",
    "student = Student(\"Alice\", 20, \"S12345\")\n",
    "professor = Professor(\"Dr. Smith\", 45, \"P9876\")\n",
    "print(student.study())    # Outputs: Alice is studying.\n",
    "print(professor.teach())  # Outputs: Dr. Smith is teaching."
   ]
  },
  {
   "cell_type": "markdown",
   "id": "f2839809-669c-40d9-a878-297eb5a8ad72",
   "metadata": {},
   "source": [
    "Encapsulation"
   ]
  },
  {
   "cell_type": "code",
   "execution_count": 32,
   "id": "ebccaa6a-2a06-4db5-a5b8-e97ae2554051",
   "metadata": {},
   "outputs": [],
   "source": [
    "# 3. How can you achieve encapsulation in Python classes? Provide an example.\n",
    "# Encapsulation is achieved by using access modifiers to control the visibility of attributes and methods.\n",
    "class Person:\n",
    "    def __init__(self, name):\n",
    "        self.__name = name  # Private attribute\n",
    "\n",
    "    def get_name(self):\n",
    "        return self.__name\n",
    "\n",
    "    def set_name(self, new_name):\n",
    "        self.__name = new_name"
   ]
  },
  {
   "cell_type": "code",
   "execution_count": 33,
   "id": "1ac52499-f7e5-4a8f-9b42-6fe37dce5739",
   "metadata": {},
   "outputs": [],
   "source": [
    "# 5. Create a Python class called `Person` with a private attribute `__name`. Provide methods to get and set the name attribute.\n",
    "class Person:\n",
    "    def __init__(self, name):\n",
    "        self.__name = name  # Private attribute\n",
    "\n",
    "    def get_name(self):\n",
    "        return self.__name\n",
    "\n",
    "    def set_name(self, new_name):\n",
    "        self.__name = new_name\n"
   ]
  },
  {
   "cell_type": "code",
   "execution_count": 34,
   "id": "dbd9b827-621b-4853-ac15-1a285bf62535",
   "metadata": {},
   "outputs": [],
   "source": [
    "# 6. Explain the purpose of getter and setter methods in encapsulation. Provide examples.\n",
    "# Getter methods are used to access private attributes, and setter methods are used to modify them, providing controlled access to the data.\n",
    "class Student:\n",
    "    def __init__(self, name, age):\n",
    "        self.__name = name  # Private attribute\n",
    "        self.__age = age    # Private attribute\n",
    "\n",
    "    def get_name(self):\n",
    "        return self.__name\n",
    "\n",
    "    def set_name(self, new_name):\n",
    "        self.__name = new_name\n",
    "\n",
    "    def get_age(self):\n",
    "        return self.__age\n",
    "\n",
    "    def set_age(self, new_age):\n",
    "        self.__age = new_age\n"
   ]
  },
  {
   "cell_type": "code",
   "execution_count": 35,
   "id": "f053c3fb-51c2-4f1f-a4ab-75fdf6c1cced",
   "metadata": {},
   "outputs": [],
   "source": [
    "# 8. Create a Python class called `BankAccount` with private attributes for the account balance (`__balance`) and account number (`__account_number`). Provide methods for depositing and withdrawing money.\n",
    "class BankAccount:\n",
    "    def __init__(self, account_number):\n",
    "        self.__account_number = account_number  # Private attribute\n",
    "        self.__balance = 0  # Private attribute\n",
    "\n",
    "    def deposit(self, amount):\n",
    "        self.__balance += amount\n",
    "\n",
    "    def withdraw(self, amount):\n",
    "        if amount <= self.__balance:\n",
    "            self.__balance -= amount\n",
    "        else:\n",
    "            print(\"Insufficient balance\")"
   ]
  },
  {
   "cell_type": "code",
   "execution_count": 36,
   "id": "1c6bd792-aa5e-41a3-89ce-8495273b276e",
   "metadata": {},
   "outputs": [
    {
     "name": "stdout",
     "output_type": "stream",
     "text": [
      "42\n"
     ]
    }
   ],
   "source": [
    "# 10. How can you access private attributes in Python? Provide an example demonstrating the use of name mangling.\n",
    "# While private attributes are not truly hidden, you can access them using name mangling.\n",
    "class MyClass:\n",
    "    def __init__(self):\n",
    "        self.__my_private_var = 42\n",
    "\n",
    "obj = MyClass()\n",
    "print(obj._MyClass__my_private_var)  # Accessing private attribute using name mangling"
   ]
  },
  {
   "cell_type": "code",
   "execution_count": 37,
   "id": "bac4fc75-127c-4373-9105-4675b41147b1",
   "metadata": {},
   "outputs": [],
   "source": [
    "# 11. Create a Python class hierarchy for a school system, including classes for students, teachers, and courses,\n",
    "# and implement encapsulation principles to protect sensitive information.\n",
    "class School:\n",
    "    def __init__(self, name):\n",
    "        self.__name = name\n",
    "\n",
    "class Student(School):\n",
    "    def __init__(self, name, student_id):\n",
    "        super().__init__(name)\n",
    "        self.__student_id = student_id\n",
    "\n",
    "class Teacher(School):\n",
    "    def __init__(self, name, employee_id):\n",
    "        super().__init__(name)\n",
    "        self.__employee_id = employee_id\n",
    "\n",
    "class Course:\n",
    "    def __init__(self, course_name):\n",
    "        self.__course_name = course_name"
   ]
  },
  {
   "cell_type": "code",
   "execution_count": 38,
   "id": "07aed299-fee2-4896-80e0-bb7d05183299",
   "metadata": {},
   "outputs": [],
   "source": [
    "# 12. Explain the concept of property decorators in Python and how they relate to encapsulation.\n",
    "# Property decorators, such as @property and @setter, are used to create getter and setter methods for attributes, providing encapsulation while maintaining a simple interface for attribute access.\n",
    "class Person:\n",
    "    def __init__(self, name):\n",
    "        self.__name = name\n",
    "\n",
    "    @property\n",
    "    def name(self):\n",
    "        return self.__name\n",
    "\n",
    "    @name.setter\n",
    "    def name(self, new_name):\n",
    "        self.__name = new_name"
   ]
  },
  {
   "cell_type": "code",
   "execution_count": 39,
   "id": "cce54fad-8425-4aee-b1a9-5d2a69868091",
   "metadata": {},
   "outputs": [],
   "source": [
    "# 13. What is data hiding, and why is it important in encapsulation? Provide examples.\n",
    "# Data hiding is the practice of making certain details of an object inaccessible to the outside world. It is important for protecting the integrity and consistency of the object's data.\n",
    "class BankAccount:\n",
    "    def __init__(self, account_number, balance):\n",
    "        self.__account_number = account_number  # Private attribute\n",
    "        self.__balance = balance  # Private attribute\n",
    "\n",
    "    def get_balance(self):\n",
    "        return self.__balance\n",
    "\n",
    "    def deposit(self, amount):\n",
    "        self.__balance += amount\n",
    "\n",
    "    def withdraw(self, amount):\n",
    "        if amount <= self.__balance:\n",
    "            self.__balance -= amount\n",
    "        else:\n",
    "            print(\"Insufficient balance\")"
   ]
  },
  {
   "cell_type": "code",
   "execution_count": 40,
   "id": "a6a5b23e-3069-4d84-ba72-8c749a4c6662",
   "metadata": {},
   "outputs": [],
   "source": [
    "# 14. Create a Python class called `Employee` with private attributes for salary (`__salary`) and employee ID (`__employee_id`). Provide a method to calculate yearly bonuses.\n",
    "class Employee:\n",
    "    def __init__(self, employee_id, salary):\n",
    "        self.__employee_id = employee_id  # Private attribute\n",
    "        self.__salary = salary  # Private attribute\n",
    "\n",
    "    def calculate_bonus(self, percentage):\n",
    "        return (self.__salary * percentage) / 100\n"
   ]
  },
  {
   "cell_type": "code",
   "execution_count": 41,
   "id": "1da28a08-e30b-4e88-8cb9-2691c48e482d",
   "metadata": {},
   "outputs": [],
   "source": [
    "# 17. Create a Python class for a library system that encapsulates book information, including titles, authors,\n",
    "# and availability status.\n",
    "class Library:\n",
    "    def __init__(self):\n",
    "        self.__books = {}  # Private attribute\n",
    "\n",
    "    def add_book(self, title, author):\n",
    "        self.__books[title] = {\"author\": author, \"available\": True}\n",
    "\n",
    "    def check_availability(self, title):\n",
    "        return self.__books.get(title, {}).get(\"available\", False)"
   ]
  },
  {
   "cell_type": "code",
   "execution_count": 43,
   "id": "bf653086-2124-467e-ac20-674ffff37b85",
   "metadata": {},
   "outputs": [
    {
     "name": "stdout",
     "output_type": "stream",
     "text": [
      "John Doe\n"
     ]
    }
   ],
   "source": [
    "# 20. Create a Python class called `Customer` with private attributes for customer details like name, address,\n",
    "# and contact information. Implement encapsulation to ensure data integrity and security.\n",
    "class Customer:\n",
    "    def __init__(self, name, address, contact_info):\n",
    "        self.__name = name  # Private attribute\n",
    "        self.__address = address  # Private attribute\n",
    "        self.__contact_info = contact_info  # Private attribute\n",
    "\n",
    "    def get_name(self):\n",
    "        return self.__name\n",
    "\n",
    "    def set_name(self, name):\n",
    "        self.__name = name\n",
    "\n",
    "    def get_address(self):\n",
    "        return self.__address\n",
    "\n",
    "    def set_address(self, address):\n",
    "        self.__address = address\n",
    "\n",
    "    def get_contact_info(self):\n",
    "        return self.__contact_info\n",
    "\n",
    "    def set_contact_info(self, contact_info):\n",
    "        self.__contact_info = contact_info\n",
    "\n",
    "# Example usage for the Customer class\n",
    "customer = Customer(\"John Doe\", \"123 Main St\", \"john@example.com\")\n",
    "print(customer.get_name())  # Accessing private attribute using getter\n",
    "customer.set_address(\"456 Elm St\")  # Modifying private attribute using setter"
   ]
  },
  {
   "cell_type": "markdown",
   "id": "07fa5f91-09e4-4772-8ee2-9c8b3042ef76",
   "metadata": {},
   "source": [
    "Polymorphism"
   ]
  },
  {
   "cell_type": "code",
   "execution_count": 44,
   "id": "acd6a1cb-77e4-4136-93df-831f9ee4a422",
   "metadata": {},
   "outputs": [
    {
     "name": "stdout",
     "output_type": "stream",
     "text": [
      "Area: 78.53975\n",
      "Area: 16\n",
      "Area: 9.0\n"
     ]
    }
   ],
   "source": [
    "# 3. Create a Python class hierarchy for shapes (e.g., circle, square, triangle) and demonstrate polymorphism\n",
    "# through a common method, such as `calculate_area()`.\n",
    "class Shape:\n",
    "    def calculate_area(self):\n",
    "        pass\n",
    "\n",
    "class Circle(Shape):\n",
    "    def __init__(self, radius):\n",
    "        self.radius = radius\n",
    "\n",
    "    def calculate_area(self):\n",
    "        return 3.14159 * self.radius * self.radius\n",
    "\n",
    "class Square(Shape):\n",
    "    def __init__(self, side_length):\n",
    "        self.side_length = side_length\n",
    "\n",
    "    def calculate_area(self):\n",
    "        return self.side_length * self.side_length\n",
    "\n",
    "class Triangle(Shape):\n",
    "    def __init__(self, base, height):\n",
    "        self.base = base\n",
    "        self.height = height\n",
    "\n",
    "    def calculate_area(self):\n",
    "        return 0.5 * self.base * self.height\n",
    "\n",
    "# Example usage for the Shape hierarchy\n",
    "shapes = [Circle(5), Square(4), Triangle(3, 6)]\n",
    "for shape in shapes:\n",
    "    print(f\"Area: {shape.calculate_area()}\")"
   ]
  },
  {
   "cell_type": "code",
   "execution_count": 45,
   "id": "ff1fd03a-c819-41b2-b5c7-2f2eb1c4d3a0",
   "metadata": {},
   "outputs": [],
   "source": [
    "# 4. Explain the concept of method overriding in polymorphism. Provide an example.\n",
    "# Method overriding allows a subclass to provide its own implementation of a method inherited from a superclass.\n",
    "class Animal:\n",
    "    def speak(self):\n",
    "        pass\n",
    "\n",
    "class Dog(Animal):\n",
    "    def speak(self):\n",
    "        return \"Woof\""
   ]
  },
  {
   "cell_type": "code",
   "execution_count": 46,
   "id": "a1397f8b-3bac-41a3-8ff1-2039ce4db4f5",
   "metadata": {},
   "outputs": [],
   "source": [
    "# 5. How is polymorphism different from method overloading in Python? Provide examples for both.\n",
    "# Polymorphism is the ability of different objects to respond to the same method call differently.\n",
    "# Method overloading involves defining multiple methods with the same name but different parameters.\n",
    "class Calculator:\n",
    "    def add(self, a, b):\n",
    "        return a + b\n",
    "\n",
    "class StringConcatenator:\n",
    "    def add(self, a, b):\n",
    "        return str(a) + str(b)"
   ]
  },
  {
   "cell_type": "code",
   "execution_count": 47,
   "id": "18762e10-5e62-4580-beaf-1ae144b3a9db",
   "metadata": {},
   "outputs": [
    {
     "name": "stdout",
     "output_type": "stream",
     "text": [
      "Woof\n",
      "Meow\n",
      "Chirp\n"
     ]
    }
   ],
   "source": [
    "# 6. Create a Python class called `Animal` with a method `speak()`. Then, create child classes like `Dog`, `Cat`, and `Bird`, each with their own `speak()` method. Demonstrate polymorphism by calling the `speak()` method\n",
    "# on objects of different subclasses.\n",
    "class Animal:\n",
    "    def speak(self):\n",
    "        pass\n",
    "\n",
    "class Dog(Animal):\n",
    "    def speak(self):\n",
    "        return \"Woof\"\n",
    "\n",
    "class Cat(Animal):\n",
    "    def speak(self):\n",
    "        return \"Meow\"\n",
    "\n",
    "class Bird(Animal):\n",
    "    def speak(self):\n",
    "        return \"Chirp\"\n",
    "\n",
    "# Example usage for different animal types\n",
    "animals = [Dog(), Cat(), Bird()]\n",
    "for animal in animals:\n",
    "    print(animal.speak())\n"
   ]
  },
  {
   "cell_type": "code",
   "execution_count": 48,
   "id": "66597ef7-c071-46ac-b165-e88428459294",
   "metadata": {},
   "outputs": [],
   "source": [
    "# 7. Discuss the use of abstract methods and classes in achieving polymorphism in Python. Provide an example\n",
    "# using the `abc` module.\n",
    "# Abstract methods define a blueprint for subclasses to implement, ensuring polymorphism.\n",
    "from abc import ABC, abstractmethod\n",
    "\n",
    "class Shape(ABC):\n",
    "    @abstractmethod\n",
    "    def calculate_area(self):\n",
    "        pass\n",
    "\n",
    "class Circle(Shape):\n",
    "    def __init__(self, radius):\n",
    "        self.radius = radius\n",
    "\n",
    "    def calculate_area(self):\n",
    "        return 3.14159 * self.radius * self.radius"
   ]
  },
  {
   "cell_type": "code",
   "execution_count": 49,
   "id": "dd6b9c7b-7273-409a-b256-d616760fde91",
   "metadata": {},
   "outputs": [
    {
     "name": "stdout",
     "output_type": "stream",
     "text": [
      "Car engine started.\n",
      "Pedaling the bicycle.\n",
      "Starting the boat engine.\n"
     ]
    }
   ],
   "source": [
    "# 8. Create a Python class hierarchy for a vehicle system (e.g., car, bicycle, boat) and implement a polymorphic `start()` method that prints a message specific to each vehicle type.\n",
    "class Vehicle:\n",
    "    def start(self):\n",
    "        pass\n",
    "\n",
    "class Car(Vehicle):\n",
    "    def start(self):\n",
    "        return \"Car engine started.\"\n",
    "\n",
    "class Bicycle(Vehicle):\n",
    "    def start(self):\n",
    "        return \"Pedaling the bicycle.\"\n",
    "\n",
    "class Boat(Vehicle):\n",
    "    def start(self):\n",
    "        return \"Starting the boat engine.\"\n",
    "\n",
    "# Example usage for different vehicle types\n",
    "vehicles = [Car(), Bicycle(), Boat()]\n",
    "for vehicle in vehicles:\n",
    "    print(vehicle.start())"
   ]
  },
  {
   "cell_type": "code",
   "execution_count": 50,
   "id": "0750123e-b0dd-4331-8609-4c41a69a17ae",
   "metadata": {},
   "outputs": [],
   "source": [
    "# 10. What is the role of the `@abstractmethod` decorator in achieving polymorphism in Python? Provide an\n",
    "# example.\n",
    "# The `@abstractmethod` decorator is used to define abstract methods in abstract base classes, ensuring that subclasses provide their implementations.\n",
    "from abc import ABC, abstractmethod\n",
    "\n",
    "class Shape(ABC):\n",
    "    @abstractmethod\n",
    "    def calculate_area(self):\n",
    "        pass\n",
    "\n",
    "class Circle(Shape):\n",
    "    def __init__(self, radius):\n",
    "        self.radius = radius\n",
    "\n",
    "    def calculate_area(self):\n",
    "        return 3.14159 * self.radius * self.radius\n"
   ]
  },
  {
   "cell_type": "code",
   "execution_count": 51,
   "id": "f6c42e0f-6341-4269-be34-173b8f62d7b0",
   "metadata": {},
   "outputs": [],
   "source": [
    "# 11. Create a Python class called `Shape` with a polymorphic method `area()` that calculates the area of different shapes (e.g., circle, rectangle, triangle).\n",
    "class Shape:\n",
    "    def area(self):\n",
    "        pass\n",
    "\n",
    "class Circle(Shape):\n",
    "    def __init__(self, radius):\n",
    "        self.radius = radius\n",
    "\n",
    "    def area(self):\n",
    "        return 3.14159 * self.radius * self.radius\n",
    "\n",
    "class Rectangle(Shape):\n",
    "    def __init__(self, length, width):\n",
    "        self.length = length\n",
    "        self.width = width\n",
    "\n",
    "    def area(self):\n",
    "        return self.length * self.width\n",
    "\n",
    "class Triangle(Shape):\n",
    "    def __init__(self, base, height):\n",
    "        self.base = base\n",
    "        self.height = height\n",
    "\n",
    "    def area(self):\n",
    "        return 0.5 * self.base * self.height\n"
   ]
  },
  {
   "cell_type": "code",
   "execution_count": 52,
   "id": "89d14596-94ca-4d58-9a77-962394b8ed85",
   "metadata": {},
   "outputs": [
    {
     "name": "stdout",
     "output_type": "stream",
     "text": [
      "Withdrawn 100 from Savings Account.\n",
      "Withdrawn 100 from Checking Account.\n",
      "Withdrawn 100 from Credit Card Account.\n"
     ]
    }
   ],
   "source": [
    "# 14. Create a Python class hierarchy for a banking system with various account types (e.g., savings, checking, credit card) and demonstrate polymorphism by implementing a common `withdraw()` method.\n",
    "class Account:\n",
    "    def withdraw(self, amount):\n",
    "        pass\n",
    "\n",
    "class SavingsAccount(Account):\n",
    "    def withdraw(self, amount):\n",
    "        return f\"Withdrawn {amount} from Savings Account.\"\n",
    "\n",
    "class CheckingAccount(Account):\n",
    "    def withdraw(self, amount):\n",
    "        return f\"Withdrawn {amount} from Checking Account.\"\n",
    "\n",
    "class CreditCardAccount(Account):\n",
    "    def withdraw(self\n",
    "\n",
    ", amount):\n",
    "        return f\"Withdrawn {amount} from Credit Card Account.\"\n",
    "\n",
    "# Example usage for different account types\n",
    "accounts = [SavingsAccount(), CheckingAccount(), CreditCardAccount()]\n",
    "for account in accounts:\n",
    "    print(account.withdraw(100))"
   ]
  },
  {
   "cell_type": "code",
   "execution_count": 53,
   "id": "8c5257a6-da2a-4c11-a161-e43ad7803e36",
   "metadata": {},
   "outputs": [
    {
     "name": "stdout",
     "output_type": "stream",
     "text": [
      "Addition: 4 + 6i\n",
      "Multiplication: -5 + 10i\n"
     ]
    }
   ],
   "source": [
    "# 15. Describe the concept of operator overloading in Python and how it relates to polymorphism. Provide\n",
    "# examples using operators like `+` and `*`.\n",
    "# Operator overloading allows operators to have different meanings for different data types. It is related to polymorphism by enabling objects of different classes to use operators in a natural way.\n",
    "class ComplexNumber:\n",
    "    def __init__(self, real, imag):\n",
    "        self.real = real\n",
    "        self.imag = imag\n",
    "\n",
    "    def __add__(self, other):\n",
    "        return ComplexNumber(self.real + other.real, self.imag + other.imag)\n",
    "\n",
    "    def __mul__(self, other):\n",
    "        return ComplexNumber(self.real * other.real - self.imag * other.imag, self.real * other.imag + self.imag * other.real)\n",
    "\n",
    "# Example usage for operator overloading\n",
    "c1 = ComplexNumber(1, 2)\n",
    "c2 = ComplexNumber(3, 4)\n",
    "c3 = c1 + c2  # Addition operator\n",
    "c4 = c1 * c2  # Multiplication operator\n",
    "print(f\"Addition: {c3.real} + {c3.imag}i\")\n",
    "print(f\"Multiplication: {c4.real} + {c4.imag}i\")"
   ]
  },
  {
   "cell_type": "code",
   "execution_count": 54,
   "id": "7fe7824f-ba95-4f56-a144-9b9ca9d1fed0",
   "metadata": {},
   "outputs": [
    {
     "name": "stdout",
     "output_type": "stream",
     "text": [
      "Salary: $50000\n",
      "Salary: $60000\n",
      "Salary: $55000\n"
     ]
    }
   ],
   "source": [
    "# 17. Create a Python class hierarchy for employees in a company (e.g., manager, developer, designer) and implement polymorphism through a common `calculate_salary()` method.\n",
    "class Employee:\n",
    "    def calculate_salary(self):\n",
    "        pass\n",
    "\n",
    "class Manager(Employee):\n",
    "    def calculate_salary(self):\n",
    "        return 50000\n",
    "\n",
    "class Developer(Employee):\n",
    "    def calculate_salary(self):\n",
    "        return 60000\n",
    "\n",
    "class Designer(Employee):\n",
    "    def calculate_salary(self):\n",
    "        return 55000\n",
    "\n",
    "# Example usage for different employee types\n",
    "employees = [Manager(), Developer(), Designer()]\n",
    "for employee in employees:\n",
    "    print(f\"Salary: ${employee.calculate_salary()}\")"
   ]
  },
  {
   "cell_type": "code",
   "execution_count": 55,
   "id": "65f1bb57-d07f-4e47-9d0e-0ef4eb3765be",
   "metadata": {},
   "outputs": [
    {
     "name": "stdout",
     "output_type": "stream",
     "text": [
      "Lion says: Mammal sound\n",
      "Eagle says: Bird sound\n",
      "Snake says: Reptile sound\n"
     ]
    }
   ],
   "source": [
    "# 20. Create a Python class for a zoo simulation, demonstrating polymorphism with different animal types (e.g., mammals, birds, reptiles) and their behavior (e.g., eating, sleeping, making sounds).\n",
    "class Animal:\n",
    "    def __init__(self, name):\n",
    "        self.name = name\n",
    "\n",
    "    def speak(self):\n",
    "        pass\n",
    "\n",
    "class Mammal(Animal):\n",
    "    def speak(self):\n",
    "        return \"Mammal sound\"\n",
    "\n",
    "class Bird(Animal):\n",
    "    def speak(self):\n",
    "        return \"Bird sound\"\n",
    "\n",
    "class Reptile(Animal):\n",
    "    def speak(self):\n",
    "        return \"Reptile sound\"\n",
    "\n",
    "# Example usage for different animal types\n",
    "zoo = [Mammal(\"Lion\"), Bird(\"Eagle\"), Reptile(\"Snake\")]\n",
    "for animal in zoo:\n",
    "    print(f\"{animal.name} says: {animal.speak()}\")"
   ]
  },
  {
   "cell_type": "markdown",
   "id": "ef4a7c75-d719-494f-9a81-351c35dad20c",
   "metadata": {},
   "source": [
    "Abstraction\n"
   ]
  },
  {
   "cell_type": "code",
   "execution_count": 56,
   "id": "4ce9d0a2-f6d2-49a5-807e-d3e1a55205da",
   "metadata": {},
   "outputs": [
    {
     "name": "stdout",
     "output_type": "stream",
     "text": [
      "Circle area: 78.53975\n",
      "Rectangle area: 24\n"
     ]
    }
   ],
   "source": [
    "# 3. Create a Python class called `Shape` with an abstract method `calculate_area()`. Then, create child classes (e.g., `Circle`, `Rectangle`) that implement the `calculate_area()` method. Provide an example of using these classes.\n",
    "from abc import ABC, abstractmethod\n",
    "\n",
    "class Shape(ABC):\n",
    "    @abstractmethod\n",
    "    def calculate_area(self):\n",
    "        pass\n",
    "\n",
    "class Circle(Shape):\n",
    "    def __init__(self, radius):\n",
    "        self.radius = radius\n",
    "\n",
    "    def calculate_area(self):\n",
    "        return 3.14159 * self.radius * self.radius\n",
    "\n",
    "class Rectangle(Shape):\n",
    "    def __init__(self, length, width):\n",
    "        self.length = length\n",
    "        self.width = width\n",
    "\n",
    "    def calculate_area(self):\n",
    "        return self.length * self.width\n",
    "\n",
    "# Example usage for different shape types\n",
    "circle = Circle(5)\n",
    "rectangle = Rectangle(4, 6)\n",
    "print(f\"Circle area: {circle.calculate_area()}\")\n",
    "print(f\"Rectangle area: {rectangle.calculate_area()}\")"
   ]
  },
  {
   "cell_type": "code",
   "execution_count": 57,
   "id": "bbb08a72-18a7-4050-bd0b-27b6270b6d19",
   "metadata": {},
   "outputs": [],
   "source": [
    "# 4. Explain the concept of abstract classes in Python and how they are defined using the `abc` module. Provide an example.\n",
    "# Abstract classes are classes that cannot be instantiated and are meant to be subclassed. They are defined using the `abc` module in Python.\n",
    "from abc import ABC, abstractmethod\n",
    "\n",
    "class AbstractClass(ABC):\n",
    "    @abstractmethod\n",
    "    def abstract_method(self):\n",
    "        pass"
   ]
  },
  {
   "cell_type": "code",
   "execution_count": 58,
   "id": "4e89b81c-1ae5-4436-a285-efcaea2ee8f7",
   "metadata": {},
   "outputs": [
    {
     "name": "stdout",
     "output_type": "stream",
     "text": [
      "Account balance: 500\n"
     ]
    }
   ],
   "source": [
    "# 6. Create a Python class for a bank account and demonstrate abstraction by hiding the account balance and providing methods to deposit and withdraw funds.\n",
    "class BankAccount:\n",
    "    def __init__(self, balance=0):\n",
    "        self._balance = balance  # Protected attribute\n",
    "\n",
    "    def deposit(self, amount):\n",
    "        self._balance += amount\n",
    "\n",
    "    def withdraw(self, amount):\n",
    "        if amount <= self._balance:\n",
    "            self._balance -= amount\n",
    "        else:\n",
    "            print(\"Insufficient balance\")\n",
    "\n",
    "    def get_balance(self):\n",
    "        return self._balance\n",
    "\n",
    "# Example usage for a bank account\n",
    "account = BankAccount()\n",
    "account.deposit(1000)\n",
    "account.withdraw(500)\n",
    "print(f\"Account balance: {account.get_balance()}\")"
   ]
  },
  {
   "cell_type": "code",
   "execution_count": 59,
   "id": "6a0b3c79-5ca0-4963-a396-5c04c9c2cf85",
   "metadata": {},
   "outputs": [
    {
     "name": "stdout",
     "output_type": "stream",
     "text": [
      "Dog is eating.\n",
      "Cat is sleeping.\n"
     ]
    }
   ],
   "source": [
    "# 8. Create a Python class hierarchy for animals and implement abstraction by defining common methods (e.g., `eat()`, `sleep()`) in an abstract base class.\n",
    "class Animal(ABC):\n",
    "    @abstractmethod\n",
    "    def eat(self):\n",
    "        pass\n",
    "\n",
    "    @abstractmethod\n",
    "    def sleep(self):\n",
    "        pass\n",
    "\n",
    "class Dog(Animal):\n",
    "    def eat(self):\n",
    "        return \"Dog is eating.\"\n",
    "\n",
    "    def sleep(self):\n",
    "        return \"Dog is sleeping.\"\n",
    "\n",
    "class Cat(Animal):\n",
    "    def eat(self):\n",
    "        return \"Cat is eating.\"\n",
    "\n",
    "    def sleep(self):\n",
    "        return \"Cat is sleeping.\"\n",
    "\n",
    "# Example usage for different animal types\n",
    "dog = Dog()\n",
    "cat = Cat()\n",
    "print(dog.eat())\n",
    "print(cat.sleep())"
   ]
  },
  {
   "cell_type": "code",
   "execution_count": 60,
   "id": "f8069a58-a570-4800-a83d-dcf5f62cf035",
   "metadata": {},
   "outputs": [
    {
     "name": "stdout",
     "output_type": "stream",
     "text": [
      "Car engine started.\n",
      "Bicycle stopped.\n"
     ]
    }
   ],
   "source": [
    "# 11. Create a Python class for a vehicle system and demonstrate abstraction by defining common methods (e.g., `start()`, `stop()`) in an abstract base class.\n",
    "class Vehicle(ABC):\n",
    "    @abstractmethod\n",
    "    def start(self):\n",
    "        pass\n",
    "\n",
    "    @abstractmethod\n",
    "    def stop(self):\n",
    "        pass\n",
    "\n",
    "class Car(Vehicle):\n",
    "    def start(self):\n",
    "        return \"Car engine started.\"\n",
    "\n",
    "    def stop(self):\n",
    "        return \"Car engine stopped.\"\n",
    "\n",
    "class Bicycle(Vehicle):\n",
    "    def start(self):\n",
    "        return \"Pedaling the bicycle.\"\n",
    "\n",
    "    def stop(self):\n",
    "        return \"Bicycle stopped.\"\n",
    "\n",
    "# Example usage for different vehicle types\n",
    "car = Car()\n",
    "bicycle = Bicycle()\n",
    "print(car.start())\n",
    "print(bicycle.stop())"
   ]
  },
  {
   "cell_type": "code",
   "execution_count": 61,
   "id": "ccd6f65a-e59d-4766-93f5-99acddaf9a09",
   "metadata": {},
   "outputs": [
    {
     "name": "stdout",
     "output_type": "stream",
     "text": [
      "Manager's salary: $60000\n",
      "Developer's salary: $70000\n",
      "Designer's salary: $65000\n"
     ]
    }
   ],
   "source": [
    "# 13. Create a Python class hierarchy for employees in a company (e.g., manager, developer, designer) and implement abstraction by defining a common `get_salary()` method.\n",
    "class Employee(ABC):\n",
    "    @abstractmethod\n",
    "    def get_salary(self):\n",
    "        pass\n",
    "\n",
    "class Manager(Employee):\n",
    "    def get_salary(self):\n",
    "        return 60000\n",
    "\n",
    "class Developer(Employee):\n",
    "    def get_salary(self):\n",
    "        return 70000\n",
    "\n",
    "class Designer(Employee):\n",
    "    def get_salary(self):\n",
    "        return 65000\n",
    "\n",
    "# Example usage for different employee types\n",
    "manager = Manager()\n",
    "developer = Developer()\n",
    "designer = Designer()\n",
    "print(f\"Manager's salary: ${manager.get_salary()}\")\n",
    "print(f\"Developer's salary: ${developer.get_salary()}\")\n",
    "print(f\"Designer's salary: ${designer.get_salary()}\")"
   ]
  },
  {
   "cell_type": "code",
   "execution_count": 62,
   "id": "ee4c7e33-0454-414f-a5c8-6f5dee98d2ae",
   "metadata": {},
   "outputs": [
    {
     "name": "stdout",
     "output_type": "stream",
     "text": [
      "Laptop powered on.\n",
      "Desktop shut down.\n"
     ]
    }
   ],
   "source": [
    "# 16. Create a Python class for a computer system, demonstrating abstraction by defining common methods (e.g., `power_on()`, `shutdown()`) in an abstract base class.\n",
    "class ComputerSystem(ABC):\n",
    "    @abstractmethod\n",
    "    def power_on(self):\n",
    "        pass\n",
    "\n",
    "    @abstractmethod\n",
    "    def shutdown(self):\n",
    "        pass\n",
    "\n",
    "class Laptop(ComputerSystem):\n",
    "    def power_on(self):\n",
    "        return \"Laptop powered on.\"\n",
    "\n",
    "    def shutdown(self):\n",
    "        return \"Laptop shut down.\"\n",
    "\n",
    "class Desktop(ComputerSystem):\n",
    "    def power_on(self):\n",
    "        return \"Desktop powered on.\"\n",
    "\n",
    "    def shutdown(self):\n",
    "        return \"Desktop shut down.\"\n",
    "\n",
    "# Example usage for different computer system types\n",
    "laptop = Laptop()\n",
    "desktop = Desktop()\n",
    "print(laptop.power_on())\n",
    "print(desktop.shutdown())"
   ]
  },
  {
   "cell_type": "code",
   "execution_count": 63,
   "id": "35145c9d-6b22-4da0-b46a-8ef0b0fd69f6",
   "metadata": {},
   "outputs": [
    {
     "name": "stdout",
     "output_type": "stream",
     "text": [
      "Book added to the library catalog.\n",
      "Book borrowed from the university library.\n"
     ]
    }
   ],
   "source": [
    "# 19. Create a Python class for a library system, implementing abstraction by defining common methods (e.g., `add_book()`, `borrow_book()`) in an abstract base class.\n",
    "class LibrarySystem(ABC):\n",
    "    @abstractmethod\n",
    "    def add_book(self):\n",
    "        pass\n",
    "\n",
    "    @abstractmethod\n",
    "    def borrow_book(self):\n",
    "        pass\n",
    "\n",
    "class PublicLibrary(LibrarySystem):\n",
    "    def add_book(self):\n",
    "        return \"Book added to the library catalog.\"\n",
    "\n",
    "    def borrow_book(self):\n",
    "        return \"Book borrowed from the library.\"\n",
    "\n",
    "class UniversityLibrary(LibrarySystem):\n",
    "    def add_book(self):\n",
    "        return \"Book added to the university library catalog.\"\n",
    "\n",
    "    def borrow_book(self):\n",
    "        return \"Book borrowed from the university library.\"\n",
    "\n",
    "# Example usage for different library system types\n",
    "public_library = PublicLibrary()\n",
    "university_library = UniversityLibrary()\n",
    "print(public_library.add_book())\n",
    "print(university_library.borrow_book())"
   ]
  },
  {
   "cell_type": "markdown",
   "id": "cb2d2f91-8ddd-46b5-87ff-2abaa78e5f08",
   "metadata": {},
   "source": [
    "Composition"
   ]
  },
  {
   "cell_type": "code",
   "execution_count": 64,
   "id": "730c55de-8c72-4253-adfe-5d6227464ebe",
   "metadata": {},
   "outputs": [
    {
     "name": "stdout",
     "output_type": "stream",
     "text": [
      "Book: Sample Book, Author: John Doe, Birthdate: 1980-05-15\n"
     ]
    }
   ],
   "source": [
    "# 3. Create a Python class called `Author` with attributes for name and birthdate. Then, create a `Book` class that contains an instance of `Author` as a composition. Provide an example of creating a `Book` object.\n",
    "class Author:\n",
    "    def __init__(self, name, birthdate):\n",
    "        self.name = name\n",
    "        self.birthdate = birthdate\n",
    "\n",
    "class Book:\n",
    "    def __init__(self, title, author):\n",
    "        self.title = title\n",
    "        self.author = author\n",
    "\n",
    "# Example usage for a book with an author\n",
    "author1 = Author(\"John Doe\", \"1980-05-15\")\n",
    "book1 = Book(\"Sample Book\", author1)\n",
    "print(f\"Book: {book1.title}, Author: {book1.author.name}, Birthdate: {book1.author.birthdate}\")"
   ]
  },
  {
   "cell_type": "code",
   "execution_count": 65,
   "id": "e67fc193-603f-4b30-8ec1-19cb175e1678",
   "metadata": {},
   "outputs": [
    {
     "name": "stdout",
     "output_type": "stream",
     "text": [
      "Playlist: My Playlist\n",
      "Song: Song 1 by Artist 1\n",
      "Song: Song 2 by Artist 2\n"
     ]
    }
   ],
   "source": [
    "# 6. Create a Python class hierarchy for a music player system, using composition to represent playlists and songs.\n",
    "class Song:\n",
    "    def __init__(self, title, artist):\n",
    "        self.title = title\n",
    "        self.artist = artist\n",
    "\n",
    "class Playlist:\n",
    "    def __init__(self, name):\n",
    "        self.name = name\n",
    "        self.songs = []\n",
    "\n",
    "    def add_song(self, song):\n",
    "        self.songs.append(song)\n",
    "\n",
    "# Example usage for a music player system with playlists and songs\n",
    "song1 = Song(\"Song 1\", \"Artist 1\")\n",
    "song2 = Song(\"Song 2\", \"Artist 2\")\n",
    "playlist1 = Playlist(\"My Playlist\")\n",
    "playlist1.add_song(song1)\n",
    "playlist1.add_song(song2)\n",
    "print(f\"Playlist: {playlist1.name}\")\n",
    "for song in playlist1.songs:\n",
    "    print(f\"Song: {song.title} by {song.artist}\")"
   ]
  },
  {
   "cell_type": "code",
   "execution_count": 66,
   "id": "33027dae-2eb1-4a68-a440-60d83a8462e6",
   "metadata": {},
   "outputs": [
    {
     "name": "stdout",
     "output_type": "stream",
     "text": [
      "Computer System: CPU: Intel, RAM: 16GB, Storage: 512GB\n"
     ]
    }
   ],
   "source": [
    "# 8. Create a Python class for a computer system, using composition to represent components like CPU, RAM, and storage devices.\n",
    "class CPU:\n",
    "    def __init__(self, brand):\n",
    "        self.brand = brand\n",
    "\n",
    "class RAM:\n",
    "    def __init__(self, capacity):\n",
    "        self.capacity = capacity\n",
    "\n",
    "class Storage:\n",
    "    def __init__(self, capacity):\n",
    "        self.capacity = capacity\n",
    "\n",
    "class ComputerSystem:\n",
    "    def __init__(self, cpu, ram, storage):\n",
    "        self.cpu = cpu\n",
    "        self.ram = ram\n",
    "        self.storage = storage\n",
    "\n",
    "# Example usage for a computer system with components\n",
    "cpu = CPU(\"Intel\")\n",
    "ram = RAM(16)\n",
    "storage = Storage(512)\n",
    "computer = ComputerSystem(cpu, ram, storage)\n",
    "print(f\"Computer System: CPU: {computer.cpu.brand}, RAM: {computer.ram.capacity}GB, Storage: {computer.storage.capacity}GB\")"
   ]
  },
  {
   "cell_type": "code",
   "execution_count": 67,
   "id": "6493adb5-56c3-4aaa-9254-123c7c0b6c7a",
   "metadata": {},
   "outputs": [
    {
     "name": "stdout",
     "output_type": "stream",
     "text": [
      "Car: Engine Fuel Type: Gasoline, Wheel Size: 16 inches, Transmission Type: Automatic\n"
     ]
    }
   ],
   "source": [
    "# 10. Create a Python class for a car, using composition to represent components like the engine, wheels, and transmission.\n",
    "class Engine:\n",
    "    def __init__(self, fuel_type):\n",
    "        self.fuel_type = fuel_type\n",
    "\n",
    "class Wheel:\n",
    "    def __init__(self, size):\n",
    "        self.size = size\n",
    "\n",
    "class Transmission:\n",
    "    def __init__(self, type):\n",
    "        self.type = type\n",
    "\n",
    "class Car:\n",
    "    def __init__(self, engine, wheels, transmission):\n",
    "        self.engine = engine\n",
    "        self.wheels = wheels\n",
    "        self.transmission = transmission\n",
    "\n",
    "# Example usage for a car with components\n",
    "engine = Engine(\"Gasoline\")\n",
    "wheels = [Wheel(16), Wheel(16), Wheel(16), Wheel(16)]\n",
    "transmission = Transmission(\"Automatic\")\n",
    "car = Car(engine, wheels, transmission)\n",
    "print(f\"Car: Engine Fuel Type: {car.engine.fuel_type}, Wheel Size: {car.wheels[0].size} inches, Transmission Type: {car.transmission.type}\")"
   ]
  },
  {
   "cell_type": "code",
   "execution_count": 68,
   "id": "d198bd99-c45f-4782-b473-a6b3d92d9211",
   "metadata": {},
   "outputs": [
    {
     "name": "stdout",
     "output_type": "stream",
     "text": [
      "Course: Computer Science 101, Instructor: Dr. Smith\n",
      "Student: Alice, ID: S12345\n",
      "Student: Bob, ID: S67890\n"
     ]
    }
   ],
   "source": [
    "# 12. Create a Python class for a university course, using composition to represent students, instructors, and course materials.\n",
    "class Student:\n",
    "    def __init__(self, name, student_id):\n",
    "        self.name = name\n",
    "        self.student_id = student_id\n",
    "\n",
    "class Instructor:\n",
    "    def __init__(self, name, instructor_id):\n",
    "        self.name = name\n",
    "        self.instructor_id = instructor_id\n",
    "\n",
    "class Course:\n",
    "    def __init__(self, course_name, instructor, students):\n",
    "        self.course_name = course_name\n",
    "        self.instructor = instructor\n",
    "        self.students = students\n",
    "\n",
    "# Example usage for a university course with students, instructors, and course materials\n",
    "student1 = Student(\"Alice\", \"S12345\")\n",
    "student2 = Student(\"Bob\", \"S67890\")\n",
    "instructor = Instructor(\"Dr. Smith\", \"I98765\")\n",
    "course = Course(\"Computer Science 101\", instructor, [student1, student2])\n",
    "print(f\"Course: {course.course_name}, Instructor: {course.instructor.name}\")\n",
    "for student in course.students:\n",
    "    print(f\"Student: {student.name}, ID: {student.student_id}\")"
   ]
  },
  {
   "cell_type": "code",
   "execution_count": 69,
   "id": "105e838c-f7a8-4568-b673-13d3b480e00e",
   "metadata": {},
   "outputs": [
    {
     "name": "stdout",
     "output_type": "stream",
     "text": [
      "Menu: Italian Delights\n",
      "Dish: Margherita Pizza\n",
      "Ingredient: Tomato, Quantity: 3\n",
      "Ingredient: Cheese, Quantity: 2\n",
      "Dish: Spaghetti Bolognese\n",
      "Ingredient: Tomato, Quantity: 3\n"
     ]
    }
   ],
   "source": [
    "# 14. Create a Python class hierarchy for a restaurant system, using composition to represent menus, dishes, and ingredients.\n",
    "class Ingredient:\n",
    "    def __init__(self, name, quantity):\n",
    "        self.name = name\n",
    "        self.quantity = quantity\n",
    "\n",
    "class Dish:\n",
    "    def __init__(self, name, ingredients):\n",
    "        self.name = name\n",
    "        self.ingredients = ingredients\n",
    "\n",
    "class Menu:\n",
    "    def __init__(self, name, dishes):\n",
    "        self.name = name\n",
    "        self.dishes = dishes\n",
    "\n",
    "# Example usage for a restaurant system with menus, dishes, and ingredients\n",
    "ingredient1 = Ingredient(\"Tomato\", 3)\n",
    "ingredient2 = Ingredient(\"Cheese\", 2)\n",
    "dish1 = Dish(\"Margherita Pizza\", [ingredient1, ingredient2])\n",
    "dish2 = Dish(\"Spaghetti Bolognese\", [ingredient1])\n",
    "menu = Menu(\"Italian Delights\", [dish1, dish2])\n",
    "print(f\"Menu: {menu.name}\")\n",
    "for dish in menu.dishes:\n",
    "    print(f\"Dish: {dish.name}\")\n",
    "    for ingredient in dish.ingredients:\n",
    "        print(f\"Ingredient: {ingredient.name}, Quantity: {ingredient.quantity}\")"
   ]
  },
  {
   "cell_type": "code",
   "execution_count": 70,
   "id": "ef41a09c-a792-4818-8c89-772581ec9850",
   "metadata": {},
   "outputs": [
    {
     "name": "stdout",
     "output_type": "stream",
     "text": [
      "Character: Hero, Weapon: Sword, Armor: Plate Armor\n",
      "Inventory: Health Potion\n"
     ]
    }
   ],
   "source": [
    "# 16. Create a Python class for a computer game character, using composition to represent attributes like weapons, armor, and inventory.\n",
    "class Weapon:\n",
    "    def __init__(self, name, damage):\n",
    "        self.name = name\n",
    "        self.damage = damage\n",
    "\n",
    "class Armor:\n",
    "    def __init__(self, name, defense):\n",
    "        self.name = name\n",
    "        self.defense = defense\n",
    "\n",
    "class Inventory:\n",
    "    def __init__(self):\n",
    "        self.items = []\n",
    "\n",
    "    def add_item(self, item):\n",
    "        self.items.append(item)\n",
    "\n",
    "class Character:\n",
    "    def __init__(self, name, weapon, armor, inventory):\n",
    "        self.name = name\n",
    "        self.weapon = weapon\n",
    "        self.armor = armor\n",
    "        self.inventory = inventory\n",
    "\n",
    "# Example usage for a game character with attributes\n",
    "sword = Weapon(\"Sword\", 20)\n",
    "plate_armor = Armor(\"Plate Armor\", 15)\n",
    "inventory = Inventory()\n",
    "inventory.add_item(\"Health Potion\")\n",
    "character = Character(\"Hero\", sword, plate_armor, inventory)\n",
    "print(f\"Character: {character.name}, Weapon: {character.weapon.name}, Armor: {character.armor.name}\")\n",
    "print(f\"Inventory: {', '.join(character.inventory.items)}\")"
   ]
  },
  {
   "cell_type": "code",
   "execution_count": 71,
   "id": "de21f62e-c10f-455d-bf36-53676ea4170a",
   "metadata": {},
   "outputs": [
    {
     "name": "stdout",
     "output_type": "stream",
     "text": [
      "House: Kitchen, Living Room\n",
      "Furniture: Sofa, Dining Table\n",
      "Appliances: Refrigerator, Washing Machine\n"
     ]
    }
   ],
   "source": [
    "# 18. Create a Python class for a house, using composition to represent rooms, furniture, and appliances.\n",
    "class Room:\n",
    "    def __init__(self, name, area):\n",
    "        self.name = name\n",
    "        self.area = area\n",
    "\n",
    "class Furniture:\n",
    "    def __init__(self, name):\n",
    "        self.name = name\n",
    "\n",
    "class Appliance:\n",
    "    def __init__(self, name):\n",
    "        self.name = name\n",
    "\n",
    "class House:\n",
    "    def __init__(self, rooms, furniture, appliances):\n",
    "        self.rooms = rooms\n",
    "        self.furniture = furniture\n",
    "        self.appliances = appliances\n",
    "\n",
    "# Example usage for a house with rooms, furniture, and appliances\n",
    "kitchen = Room(\"Kitchen\", 100)\n",
    "living_room = Room(\"Living Room\", 200)\n",
    "furniture = [Furniture(\"Sofa\"), Furniture(\"Dining Table\")]\n",
    "appliances = [Appliance(\"Refrigerator\"), Appliance(\"Washing Machine\")]\n",
    "house = House([kitchen, living_room], furniture, appliances)\n",
    "print(f\"House: {', '.join(room.name for room in house.rooms)}\")\n",
    "print(f\"Furniture: {', '.join(item.name for item in house.furniture)}\")\n",
    "print(f\"Appliances: {', '.join(item.name for item in house.appliances)}\")\n"
   ]
  },
  {
   "cell_type": "code",
   "execution_count": 72,
   "id": "9c3a38ae-47e7-4ec5-a994-aab46c2beab8",
   "metadata": {},
   "outputs": [
    {
     "ename": "AttributeError",
     "evalue": "'Post' object has no attribute 'comments'",
     "output_type": "error",
     "traceback": [
      "\u001b[1;31m---------------------------------------------------------------------------\u001b[0m",
      "\u001b[1;31mAttributeError\u001b[0m                            Traceback (most recent call last)",
      "Cell \u001b[1;32mIn[72], line 31\u001b[0m\n\u001b[0;32m     29\u001b[0m user1\u001b[38;5;241m.\u001b[39mcreate_post(\u001b[38;5;124m\"\u001b[39m\u001b[38;5;124mHello, everyone!\u001b[39m\u001b[38;5;124m\"\u001b[39m)\n\u001b[0;32m     30\u001b[0m user2\u001b[38;5;241m.\u001b[39mcreate_post(\u001b[38;5;124m\"\u001b[39m\u001b[38;5;124mGood morning!\u001b[39m\u001b[38;5;124m\"\u001b[39m)\n\u001b[1;32m---> 31\u001b[0m \u001b[43muser1\u001b[49m\u001b[38;5;241;43m.\u001b[39;49m\u001b[43mcreate_comment\u001b[49m\u001b[43m(\u001b[49m\u001b[38;5;124;43m\"\u001b[39;49m\u001b[38;5;124;43mNice post, Bob!\u001b[39;49m\u001b[38;5;124;43m\"\u001b[39;49m\u001b[43m,\u001b[49m\u001b[43m \u001b[49m\u001b[43muser2\u001b[49m\u001b[38;5;241;43m.\u001b[39;49m\u001b[43mposts\u001b[49m\u001b[43m[\u001b[49m\u001b[38;5;241;43m0\u001b[39;49m\u001b[43m]\u001b[49m\u001b[43m)\u001b[49m\n\u001b[0;32m     32\u001b[0m user2\u001b[38;5;241m.\u001b[39mcreate_comment(\u001b[38;5;124m\"\u001b[39m\u001b[38;5;124mThank you, Alice!\u001b[39m\u001b[38;5;124m\"\u001b[39m, user1\u001b[38;5;241m.\u001b[39mposts[\u001b[38;5;241m0\u001b[39m])\n\u001b[0;32m     34\u001b[0m \u001b[38;5;28mprint\u001b[39m(\u001b[38;5;124mf\u001b[39m\u001b[38;5;124m\"\u001b[39m\u001b[38;5;132;01m{\u001b[39;00muser1\u001b[38;5;241m.\u001b[39musername\u001b[38;5;132;01m}\u001b[39;00m\u001b[38;5;124m'\u001b[39m\u001b[38;5;124ms Posts:\u001b[39m\u001b[38;5;124m\"\u001b[39m)\n",
      "Cell \u001b[1;32mIn[72], line 24\u001b[0m, in \u001b[0;36mUser.create_comment\u001b[1;34m(self, text, post)\u001b[0m\n\u001b[0;32m     22\u001b[0m \u001b[38;5;28;01mdef\u001b[39;00m \u001b[38;5;21mcreate_comment\u001b[39m(\u001b[38;5;28mself\u001b[39m, text, post):\n\u001b[0;32m     23\u001b[0m     comment \u001b[38;5;241m=\u001b[39m Comment(text, \u001b[38;5;28mself\u001b[39m)\n\u001b[1;32m---> 24\u001b[0m     \u001b[43mpost\u001b[49m\u001b[38;5;241;43m.\u001b[39;49m\u001b[43mcomments\u001b[49m\u001b[38;5;241m.\u001b[39mappend(comment)\n",
      "\u001b[1;31mAttributeError\u001b[0m: 'Post' object has no attribute 'comments'"
     ]
    }
   ],
   "source": [
    "# 20. Create a Python class for a social media application, using composition to represent users, posts, and comments.\n",
    "class Post:\n",
    "    def __init__(self, content, author):\n",
    "        self.content = content\n",
    "        self.author = author\n",
    "\n",
    "class Comment:\n",
    "    def __init__(self, text, author):\n",
    "        self.text = text\n",
    "        self.author = author\n",
    "\n",
    "class User:\n",
    "    def __init__(self, username):\n",
    "        self.username = username\n",
    "        self.posts = []\n",
    "        self.comments = []\n",
    "\n",
    "    def create_post(self, content):\n",
    "        post = Post(content, self)\n",
    "        self.posts.append(post)\n",
    "\n",
    "    def create_comment(self, text, post):\n",
    "        comment = Comment(text, self)\n",
    "        post.comments.append(comment)\n",
    "\n",
    "# Example usage for a social media application with users, posts, and comments\n",
    "user1 = User(\"Alice\")\n",
    "user2 = User(\"Bob\")\n",
    "user1.create_post(\"Hello, everyone!\")\n",
    "user2.create_post(\"Good morning!\")\n",
    "user1.create_comment(\"Nice post, Bob!\", user2.posts[0])\n",
    "user2.create_comment(\"Thank you, Alice!\", user1.posts[0])\n",
    "\n",
    "print(f\"{user1.username}'s Posts:\")\n",
    "for post in user1.posts:\n",
    "    print(f\"Post: {post.content}, Comments: {[comment.text for comment in post.comments]}\")\n",
    "\n",
    "print(f\"{user2.username}'s Posts:\")\n",
    "for post in user2.posts:\n",
    "    print(f\"Post: {post.content}, Comments: {[comment.text for comment in post.comments]}\")"
   ]
  }
 ],
 "metadata": {
  "kernelspec": {
   "display_name": "Python 3 (ipykernel)",
   "language": "python",
   "name": "python3"
  },
  "language_info": {
   "codemirror_mode": {
    "name": "ipython",
    "version": 3
   },
   "file_extension": ".py",
   "mimetype": "text/x-python",
   "name": "python",
   "nbconvert_exporter": "python",
   "pygments_lexer": "ipython3",
   "version": "3.12.1"
  }
 },
 "nbformat": 4,
 "nbformat_minor": 5
}
