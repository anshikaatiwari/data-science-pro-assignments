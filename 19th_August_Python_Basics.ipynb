{
 "cells": [
  {
   "cell_type": "markdown",
   "id": "8a0bba1c",
   "metadata": {},
   "source": [
    "# python basics variable"
   ]
  },
  {
   "cell_type": "code",
   "execution_count": null,
   "id": "5851be53",
   "metadata": {},
   "outputs": [],
   "source": [
    "#q1\n",
    "\n",
    "\n",
    "# initialisation\n",
    "x = 5\n",
    "y = 9\n",
    "\n",
    "#swapping\n",
    "x,y = y,x\n",
    "\n",
    "print(\"After swapping x=\",x , \"y=\",y)\n"
   ]
  },
  {
   "cell_type": "code",
   "execution_count": 23,
   "id": "181505a1",
   "metadata": {},
   "outputs": [
    {
     "name": "stdout",
     "output_type": "stream",
     "text": [
      "length : 4\n",
      "width : 5\n",
      "area of rectangle = 20.0\n"
     ]
    }
   ],
   "source": [
    "#q2\n",
    "\n",
    "length = float(input(\"length : \"))\n",
    "width = float(input(\"width : \"))\n",
    "\n",
    "area = (length*width)\n",
    "print( \"area of rectangle =\",area)"
   ]
  },
  {
   "cell_type": "code",
   "execution_count": 24,
   "id": "4dc868dc",
   "metadata": {},
   "outputs": [
    {
     "name": "stdout",
     "output_type": "stream",
     "text": [
      "Temperature in celsius : 32\n",
      "Temperature in Fahrenheit :  89.6\n"
     ]
    }
   ],
   "source": [
    "#q3\n",
    "\n",
    "\n",
    "celsius = float(input(\"Temperature in celsius : \"))\n",
    "\n",
    "fahrenheit =(celsius*9/5) +32\n",
    "print(\"Temperature in Fahrenheit : \",fahrenheit)"
   ]
  },
  {
   "cell_type": "markdown",
   "id": "9af85801",
   "metadata": {},
   "source": [
    "# string based questions\n"
   ]
  },
  {
   "cell_type": "code",
   "execution_count": 29,
   "id": "0dba8a8e",
   "metadata": {},
   "outputs": [
    {
     "name": "stdout",
     "output_type": "stream",
     "text": [
      "Enter string :edgedrg\n",
      "length of string = 7\n"
     ]
    }
   ],
   "source": [
    "#q1\n",
    "\n",
    "string = input(\"Enter string :\")\n",
    "\n",
    "print(\"length of string =\",len(string))\n",
    "\n"
   ]
  },
  {
   "cell_type": "code",
   "execution_count": 30,
   "id": "08c6faf3",
   "metadata": {},
   "outputs": [
    {
     "name": "stdout",
     "output_type": "stream",
     "text": [
      "Enter a sentence: i am going to kanPUR TOMMOROw\n",
      "Number of vowels in the sentence: 10\n"
     ]
    }
   ],
   "source": [
    "#q2\n",
    "\n",
    "\n",
    "\n",
    "sentence = input(\"Enter a sentence: \")\n",
    "\n",
    "vowel_count = 0\n",
    "\n",
    "vowels = \"aeiouAEIOU\"\n",
    "\n",
    "for char in sentence:\n",
    "    \n",
    "    if char in vowels:\n",
    "        vowel_count += 1\n",
    "print(\"Number of vowels in the sentence:\", vowel_count)\n"
   ]
  },
  {
   "cell_type": "code",
   "execution_count": 33,
   "id": "464da4a7",
   "metadata": {},
   "outputs": [
    {
     "name": "stdout",
     "output_type": "stream",
     "text": [
      "Enter String :ertgrtgfrt\n",
      "Reversed String : trfgtrgtre\n"
     ]
    }
   ],
   "source": [
    "#q3\n",
    "\n",
    "string = input(\"Enter String :\")\n",
    "print(\"Reversed String :\",string[::-1])"
   ]
  },
  {
   "cell_type": "code",
   "execution_count": 40,
   "id": "a6d55556",
   "metadata": {},
   "outputs": [
    {
     "name": "stdout",
     "output_type": "stream",
     "text": [
      "Enter String :An na\n",
      "It is a Palindrome\n"
     ]
    }
   ],
   "source": [
    "#q4\n",
    "\n",
    "\n",
    "string = input(\"Enter String :\")\n",
    "clean = string.replace(\" \",\"\").lower()\n",
    "reversed = clean[::-1]\n",
    "if clean == reversed :\n",
    "    print(\"It is a Palindrome\")\n",
    "else:\n",
    "    print(\"It is not a Palindrome\")"
   ]
  },
  {
   "cell_type": "code",
   "execution_count": 42,
   "id": "81d6244a",
   "metadata": {},
   "outputs": [
    {
     "name": "stdout",
     "output_type": "stream",
     "text": [
      "Enter String :i am going to kanpur tommorow\n",
      "Modified String : iamgoingtokanpurtommorow\n"
     ]
    }
   ],
   "source": [
    "#q5\n",
    "\n",
    "string = input(\"Enter String :\")\n",
    "modified_string = string.replace(\" \",\"\")\n",
    "print(\"Modified String :\",modified_string)"
   ]
  },
  {
   "cell_type": "code",
   "execution_count": null,
   "id": "b86ed06c",
   "metadata": {},
   "outputs": [],
   "source": []
  }
 ],
 "metadata": {
  "kernelspec": {
   "display_name": "Python 3 (ipykernel)",
   "language": "python",
   "name": "python3"
  },
  "language_info": {
   "codemirror_mode": {
    "name": "ipython",
    "version": 3
   },
   "file_extension": ".py",
   "mimetype": "text/x-python",
   "name": "python",
   "nbconvert_exporter": "python",
   "pygments_lexer": "ipython3",
   "version": "3.11.4"
  }
 },
 "nbformat": 4,
 "nbformat_minor": 5
}
